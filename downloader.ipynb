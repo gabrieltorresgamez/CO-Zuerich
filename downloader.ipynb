{
 "cells": [
  {
   "cell_type": "code",
   "execution_count": 1,
   "metadata": {},
   "outputs": [],
   "source": [
    "import pandas as pd\n",
    "from tqdm import tqdm\n",
    "\n",
    "# settings\n",
    "locations = {\n",
    "    'Zch_Stampfenbachstrasse': {\n",
    "        'lat': 47.382390,\n",
    "        'lon': 8.541740,\n",
    "    }, \n",
    "    'Zch_Schimmelstrasse': {\n",
    "        'lat': 47.370270,\n",
    "        'lon': 8.524890,\n",
    "    },\n",
    "    'Zch_Heubeeribüel': {\n",
    "        'lat': 47.387810,\n",
    "        'lon': 8.527100,\n",
    "    },\n",
    "    'Zch_Rosengartenstrasse': {\n",
    "        'lat': 47.395100,\n",
    "        'lon': 8.525920,\n",
    "    },\n",
    "}"
   ]
  },
  {
   "cell_type": "code",
   "execution_count": 2,
   "metadata": {},
   "outputs": [],
   "source": [
    "# check if data is already downloaded\n",
    "try:\n",
    "    data = pd.read_parquet('data.parquet')\n",
    "\n",
    "# if not, download data\n",
    "except FileNotFoundError:\n",
    "    # Download data from 1983 to 2021\n",
    "    data = None\n",
    "    for year in tqdm(range(1983, 2022)):\n",
    "        url = f'https://data.stadt-zuerich.ch/dataset/ugz_luftschadstoffmessung_stundenwerte/download/ugz_ogd_air_h1_{year}.csv'\n",
    "        temp = pd.read_csv(url, sep=',')\n",
    "        data = temp if data is None else pd.concat([data, temp])\n",
    "\n",
    "    # save data to parquet file\n",
    "    data.to_parquet('data.parquet')"
   ]
  },
  {
   "cell_type": "code",
   "execution_count": 3,
   "metadata": {},
   "outputs": [],
   "source": [
    "# Datum to datetime\n",
    "data['Datum'] = pd.to_datetime(data['Datum'], format='%Y-%m-%dT%H:%M%z')\n",
    "data = data.sort_values(by=['Datum'])\n",
    "\n",
    "# Remove timezone\n",
    "data['Datum'] = data['Datum'].dt.tz_localize(None)\n",
    "\n",
    "# Replace Standort with lat and lon columns\n",
    "data['Lat'] = data['Standort'].apply(lambda x: locations[x]['lat'])\n",
    "data['Lon'] = data['Standort'].apply(lambda x: locations[x]['lon'])\n",
    "\n",
    "# Only use Data where \"Status\" is \"bereinigt\"\n",
    "data = data[data['Status'] == 'bereinigt']\n",
    "data = data.drop(columns=['Status'])\n",
    "\n",
    "# Drop unnecessary \"Intervall\" column\n",
    "data = data.drop(columns=['Intervall'])\n",
    "\n",
    "# Combine \"Parameter\" and \"Einheit\" columns\n",
    "data['Parameter'] = data['Parameter'] + ' in ' + data['Einheit']\n",
    "data = data.drop(columns=['Einheit'])"
   ]
  },
  {
   "cell_type": "code",
   "execution_count": 4,
   "metadata": {},
   "outputs": [],
   "source": [
    "# export cleaned data to parquet file\n",
    "data.to_parquet('data_cleaned.parquet')"
   ]
  }
 ],
 "metadata": {
  "kernelspec": {
   "display_name": "Python 3",
   "language": "python",
   "name": "python3"
  },
  "language_info": {
   "codemirror_mode": {
    "name": "ipython",
    "version": 3
   },
   "file_extension": ".py",
   "mimetype": "text/x-python",
   "name": "python",
   "nbconvert_exporter": "python",
   "pygments_lexer": "ipython3",
   "version": "3.10.11"
  },
  "orig_nbformat": 4
 },
 "nbformat": 4,
 "nbformat_minor": 2
}
